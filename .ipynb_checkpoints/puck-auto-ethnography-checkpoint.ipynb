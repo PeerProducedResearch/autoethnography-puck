{
 "cells": [
  {
   "cell_type": "markdown",
   "metadata": {},
   "source": [
    "# Using combined data from Puck.js and quantitative recordings for auto-ethnography\n",
    "\n",
    "This notebook provides a way to do dynamic data visualizations of auto-ethnographic data collected in a mixed-methods approach. It requires the data to be already processed into a file as described in the XCol field device description. \n",
    "\n",
    "In short: Your file should be a comma-separated spreadsheet file that has at least three different columns, two of which are expected to look like this: \n",
    "\n",
    "1. `Timestamp`, describing when you collected the data\n",
    "2. `Duration`, describing for how many seconds you pressed the _Puck.js_\n",
    "\n",
    "You can have as many additional columns for observations, retrospective categories or anything else you would like and later on select which data you want to present. \n",
    "\n",
    "## How to use this notebook\n",
    "\n",
    "To run this notebook and create the data visualizations you will need to select `Cell` -> `Run All` from the menu above. You can then scroll down to upload your observation file, view your visualization and interactively select the columns you want to visualize. The cells below are just the initial setup for the graphical display later on."
   ]
  },
  {
   "cell_type": "code",
   "execution_count": null,
   "metadata": {},
   "outputs": [],
   "source": [
    "# This installs and imports the data visualization tools we need\n",
    "\n",
    "\n",
    "import sys\n",
    "import numpy as np\n",
    "import pandas as pd\n",
    "import plotly.graph_objects as go\n",
    "import plotly.express as px\n",
    "from IPython.display import Image, display, HTML\n",
    "import ipywidgets as widgets\n",
    "from ipywidgets import interact, interact_manual, fixed\n",
    "import os\n",
    "import io\n",
    "from datetime import datetime\n",
    "from plotly.offline import plot, iplot, init_notebook_mode\n",
    "import plotly.graph_objs as go\n",
    "init_notebook_mode(connected=True)"
   ]
  },
  {
   "cell_type": "code",
   "execution_count": null,
   "metadata": {},
   "outputs": [],
   "source": [
    "def plot_observations(df, color_var, text_var):\n",
    "    df[text_var+'_changed'] = df[text_var].replace(np.nan, '', regex=True)\n",
    "    df[text_var+'_changed']= df[text_var+'_changed'].astype(str)\n",
    "    df[text_var+'_changed'] = df[text_var+'_changed'].str.wrap(30)\n",
    "    df[text_var+'_changed'] = df[text_var+'_changed'].replace(np.nan, '', regex=True)\n",
    "    df[text_var+'_changed'] = df[text_var+'_changed'].astype(str).apply(lambda x: x.replace('\\n', '<br>'))\n",
    "\n",
    "    hover_data = {'Timestamp': True, 'hour': True, text_var+\"_changed\": True}\n",
    "    \n",
    "    fig = px.scatter(df, x='Timestamp', y='hour', hover_data=hover_data, \n",
    "               size='Duration',color=color_var,\n",
    "                template=\"simple_white\",\n",
    "                    marginal_y='violin', marginal_x='violin')\n",
    "\n",
    "    fig.update_layout(\n",
    "        hoverlabel=dict(\n",
    "            font_size=13,\n",
    "        )\n",
    "    )\n",
    "\n",
    "    fig.add_hline(y=12, line_width=3, line_dash=\"dash\", line_color=\"red\")\n",
    "    fig.add_hline(y=19, line_width=3, line_dash=\"dash\", line_color=\"red\")\n",
    "\n",
    "    fig.show()"
   ]
  },
  {
   "cell_type": "code",
   "execution_count": null,
   "metadata": {},
   "outputs": [],
   "source": [
    "def read_observations(change):\n",
    "    for i in change['new'].keys():\n",
    "        df = pd.read_csv(io.BytesIO(change['new'][i]['content']))\n",
    "        df['Timestamp'] = pd.to_datetime(df['Timestamp'])\n",
    "        df['hour'] = df.Timestamp.dt.hour + (df.Timestamp.dt.minute/60)\n",
    "        _ = widgets.interact(\n",
    "            plot_observations,\n",
    "            df=fixed(df),\n",
    "            color_var=list(df.columns),\n",
    "            text_var=list(df.columns)\n",
    "        )\n",
    "        #plot_observations(df, 'Retrospective category', 'Observations')\n",
    "upload_widget = widgets.FileUpload()\n",
    "upload_widget.observe(read_observations, names='value')"
   ]
  },
  {
   "cell_type": "markdown",
   "metadata": {},
   "source": [
    "## Uploading your file\n",
    "\n",
    "Click the `Upload` button below and select the file you want to upload. It will be automatically read in as a spreadsheet and you will be able to select the variables that you want to use for coloring the points (`color_var`) and the labels that should appear when you hover over the data points (`text_var`).\n",
    "\n",
    "Once you have selected your fields it might take a bit of time before the interactive visualization appears."
   ]
  },
  {
   "cell_type": "code",
   "execution_count": null,
   "metadata": {},
   "outputs": [],
   "source": [
    "display(upload_widget)"
   ]
  }
 ],
 "metadata": {
  "kernelspec": {
   "display_name": "Python 3",
   "language": "python",
   "name": "python3"
  },
  "language_info": {
   "codemirror_mode": {
    "name": "ipython",
    "version": 3
   },
   "file_extension": ".py",
   "mimetype": "text/x-python",
   "name": "python",
   "nbconvert_exporter": "python",
   "pygments_lexer": "ipython3",
   "version": "3.6.3"
  }
 },
 "nbformat": 4,
 "nbformat_minor": 4
}
